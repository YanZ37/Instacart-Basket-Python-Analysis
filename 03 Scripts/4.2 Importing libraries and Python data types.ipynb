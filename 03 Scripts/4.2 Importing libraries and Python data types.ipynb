{
 "cells": [
  {
   "cell_type": "markdown",
   "id": "98c25cd0-dbd7-4acf-bda3-d85be1de6183",
   "metadata": {},
   "source": [
    "1. Importing library"
   ]
  },
  {
   "cell_type": "code",
   "execution_count": 1,
   "id": "4acdc173-7aec-495e-828e-c71574330ce4",
   "metadata": {},
   "outputs": [],
   "source": [
    "# Importing libraries\n",
    "import pandas as pd\n",
    "import numpy as np\n",
    "import os"
   ]
  },
  {
   "cell_type": "markdown",
   "id": "50476387-164a-4965-a5a3-8e667eb37e87",
   "metadata": {},
   "source": [
    "2. Working with data types"
   ]
  },
  {
   "cell_type": "code",
   "execution_count": null,
   "id": "b0d02a85-2b47-4af1-9ce3-589724f600f9",
   "metadata": {},
   "outputs": [],
   "source": [
    "# Code 3 different ways of reaching a result of 100 by adding or subtracting numeric values."
   ]
  },
  {
   "cell_type": "code",
   "execution_count": 20,
   "id": "b6438776-02cd-4308-b5f0-3742ed7dd76b",
   "metadata": {},
   "outputs": [
    {
     "name": "stdout",
     "output_type": "stream",
     "text": [
      "100\n"
     ]
    }
   ],
   "source": [
    "x = 41\n",
    "y = 59\n",
    "print (x + y)"
   ]
  },
  {
   "cell_type": "code",
   "execution_count": 41,
   "id": "732cfdc4-1a50-41e7-ac1d-e6ae61e39b8b",
   "metadata": {},
   "outputs": [
    {
     "name": "stdout",
     "output_type": "stream",
     "text": [
      "100\n"
     ]
    }
   ],
   "source": [
    "a = 180\n",
    "b = 30\n",
    "c = 110\n",
    "print (a + b - c)"
   ]
  },
  {
   "cell_type": "code",
   "execution_count": 42,
   "id": "a7707bb0-1d1f-498c-ac57-7accf6653cb0",
   "metadata": {},
   "outputs": [
    {
     "name": "stdout",
     "output_type": "stream",
     "text": [
      "100\n"
     ]
    }
   ],
   "source": [
    "d = 999\n",
    "e = 1\n",
    "f = 900\n",
    "print (d + e - f)"
   ]
  },
  {
   "cell_type": "code",
   "execution_count": null,
   "id": "1fed8ec1-a6df-4a54-a918-7aced48da695",
   "metadata": {},
   "outputs": [],
   "source": [
    "# Code 2 floating-point variables and divide them by each other."
   ]
  },
  {
   "cell_type": "code",
   "execution_count": 43,
   "id": "4b6f70c3-2f48-4115-b1cf-e7d65aff9df8",
   "metadata": {},
   "outputs": [
    {
     "name": "stdout",
     "output_type": "stream",
     "text": [
      "0.7995991983967936\n"
     ]
    }
   ],
   "source": [
    "g = 3.99\n",
    "h = 4.99\n",
    "print (g / h)"
   ]
  },
  {
   "cell_type": "code",
   "execution_count": null,
   "id": "e4536db4-d15d-4858-908c-c605a5f47e14",
   "metadata": {},
   "outputs": [],
   "source": [
    "# Construct a short word made of separate strings (you’ll need to concatenate some strings!)."
   ]
  },
  {
   "cell_type": "code",
   "execution_count": 44,
   "id": "20df985c-b119-4b3a-bb6b-bce07c0ede50",
   "metadata": {},
   "outputs": [
    {
     "name": "stdout",
     "output_type": "stream",
     "text": [
      "bluespring\n"
     ]
    }
   ],
   "source": [
    "i = 'blue'\n",
    "j = 'spring'\n",
    "print (i + j)"
   ]
  },
  {
   "cell_type": "code",
   "execution_count": 45,
   "id": "a73e1938-fea2-49b1-b2f5-31a7109d99c7",
   "metadata": {},
   "outputs": [
    {
     "name": "stdout",
     "output_type": "stream",
     "text": [
      "beachhaven\n"
     ]
    }
   ],
   "source": [
    "k = 'beach'\n",
    "l = 'haven'\n",
    "print (k + l)"
   ]
  },
  {
   "cell_type": "code",
   "execution_count": null,
   "id": "deef445a-b741-411b-b92a-880c01731cb1",
   "metadata": {},
   "outputs": [],
   "source": [
    "# Construct 2 short sentences made of separate strings."
   ]
  },
  {
   "cell_type": "code",
   "execution_count": 46,
   "id": "8da6ce45-df33-49af-bd92-d22c4b0fe97f",
   "metadata": {},
   "outputs": [
    {
     "name": "stdout",
     "output_type": "stream",
     "text": [
      "Python is a powerful tool for data analysis. That's why we am learning it.\n"
     ]
    }
   ],
   "source": [
    "m = 'Python is a powerful tool for data analysis. '\n",
    "n = \"That's why we am learning it.\"\n",
    "print (m + n)"
   ]
  },
  {
   "cell_type": "markdown",
   "id": "f20509e0-0580-406b-928b-c38762e3486d",
   "metadata": {},
   "source": [
    "3. Bonus Task"
   ]
  },
  {
   "cell_type": "code",
   "execution_count": 47,
   "id": "a5d208e1-ce7e-416b-94a4-7e355c518da4",
   "metadata": {
    "jupyter": {
     "source_hidden": true
    }
   },
   "outputs": [
    {
     "data": {
      "text/plain": [
       "\"That's why we am learning it.That's why we am learning it.That's why we am learning it.That's why we am learning it.That's why we am learning it.That's why we am learning it.That's why we am learning it.That's why we am learning it.That's why we am learning it.That's why we am learning it.That's why we am learning it.That's why we am learning it.That's why we am learning it.That's why we am learning it.That's why we am learning it.That's why we am learning it.That's why we am learning it.That's why we am learning it.That's why we am learning it.That's why we am learning it.That's why we am learning it.That's why we am learning it.That's why we am learning it.That's why we am learning it.That's why we am learning it.That's why we am learning it.That's why we am learning it.That's why we am learning it.That's why we am learning it.That's why we am learning it.That's why we am learning it.That's why we am learning it.That's why we am learning it.That's why we am learning it.That's why we am learning it.That's why we am learning it.That's why we am learning it.That's why we am learning it.That's why we am learning it.That's why we am learning it.That's why we am learning it.That's why we am learning it.That's why we am learning it.That's why we am learning it.That's why we am learning it.That's why we am learning it.That's why we am learning it.That's why we am learning it.That's why we am learning it.That's why we am learning it.That's why we am learning it.That's why we am learning it.That's why we am learning it.That's why we am learning it.That's why we am learning it.That's why we am learning it.That's why we am learning it.That's why we am learning it.That's why we am learning it.That's why we am learning it.That's why we am learning it.That's why we am learning it.That's why we am learning it.That's why we am learning it.That's why we am learning it.That's why we am learning it.That's why we am learning it.That's why we am learning it.That's why we am learning it.That's why we am learning it.That's why we am learning it.That's why we am learning it.That's why we am learning it.That's why we am learning it.That's why we am learning it.That's why we am learning it.That's why we am learning it.That's why we am learning it.That's why we am learning it.That's why we am learning it.That's why we am learning it.That's why we am learning it.That's why we am learning it.That's why we am learning it.That's why we am learning it.That's why we am learning it.That's why we am learning it.That's why we am learning it.That's why we am learning it.That's why we am learning it.That's why we am learning it.That's why we am learning it.That's why we am learning it.That's why we am learning it.That's why we am learning it.That's why we am learning it.That's why we am learning it.That's why we am learning it.That's why we am learning it.That's why we am learning it.\""
      ]
     },
     "execution_count": 47,
     "metadata": {},
     "output_type": "execute_result"
    }
   ],
   "source": [
    "# Include a command that makes a string appear 100 times\n",
    "n * 100"
   ]
  }
 ],
 "metadata": {
  "kernelspec": {
   "display_name": "Python [conda env:base] *",
   "language": "python",
   "name": "conda-base-py"
  },
  "language_info": {
   "codemirror_mode": {
    "name": "ipython",
    "version": 3
   },
   "file_extension": ".py",
   "mimetype": "text/x-python",
   "name": "python",
   "nbconvert_exporter": "python",
   "pygments_lexer": "ipython3",
   "version": "3.13.5"
  }
 },
 "nbformat": 4,
 "nbformat_minor": 5
}
